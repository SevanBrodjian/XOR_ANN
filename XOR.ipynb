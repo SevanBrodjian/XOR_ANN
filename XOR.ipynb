{
 "cells": [
  {
   "cell_type": "code",
   "execution_count": 1,
   "id": "de85b976",
   "metadata": {},
   "outputs": [],
   "source": [
    "import torch.nn as nn\n",
    "import torch.nn.functional as F\n",
    "import torch.optim as optim\n",
    "from torch import Tensor, cat, sigmoid\n",
    "from torch.autograd import Variable\n",
    "import numpy as np"
   ]
  },
  {
   "cell_type": "code",
   "execution_count": 2,
   "id": "a8cf98bb",
   "metadata": {},
   "outputs": [],
   "source": [
    "class XOR_brain(nn.Module):\n",
    "\n",
    "    def __init__(self, lrate, loss_fn, in_size, out_size):\n",
    "        super(XOR_brain, self).__init__()\n",
    "\n",
    "        self.loss_fn = loss_fn\n",
    "\n",
    "        self.fc1_in = nn.Linear(in_size, 2)\n",
    "        self.fc2_out = nn.Linear(2, out_size)\n",
    "\n",
    "        self.optimizer = optim.SGD(self.parameters(), lr=lrate, momentum=0.9)\n",
    "\n",
    "    def forward(self, x):\n",
    "        x = sigmoid(self.fc1_in(x))\n",
    "        x = self.fc2_out(x)\n",
    "        return x\n",
    "\n",
    "    def step(self, x, y):\n",
    "        \n",
    "        self.optimizer.zero_grad()\n",
    "        y_hat = self(x)\n",
    "        loss = self.loss_fn.forward(y_hat, y)\n",
    "\n",
    "        # Optimize based on gradient from loss function\n",
    "        \n",
    "        loss.backward()\n",
    "        self.optimizer.step()\n",
    "        \n",
    "        return loss.data.numpy()"
   ]
  },
  {
   "cell_type": "code",
   "execution_count": 3,
   "id": "b29a2c81",
   "metadata": {},
   "outputs": [],
   "source": [
    "brain = XOR_brain(0.02, nn.MSELoss(), 2, 1)"
   ]
  },
  {
   "cell_type": "code",
   "execution_count": 4,
   "id": "36a3fcdb",
   "metadata": {},
   "outputs": [],
   "source": [
    "def weights_init(model):\n",
    "    for m in model.modules():\n",
    "        if isinstance(m, nn.Linear):\n",
    "            # initialize the weight tensor, here we use a normal distribution\n",
    "            m.weight.data.normal_(0, 1)\n",
    "\n",
    "weights_init(brain)"
   ]
  },
  {
   "cell_type": "code",
   "execution_count": 5,
   "id": "223f679c",
   "metadata": {},
   "outputs": [],
   "source": [
    "X = Tensor([[0,0],[0,1], [1,0], [1,1]])\n",
    "Y = Tensor([0,1,1,0]).view(-1,1)"
   ]
  },
  {
   "cell_type": "code",
   "execution_count": 6,
   "id": "eb981778",
   "metadata": {},
   "outputs": [
    {
     "name": "stdout",
     "output_type": "stream",
     "text": [
      "Epoch: 0, Loss: 2.402541160583496, \n",
      "Epoch: 500, Loss: 0.03145718201994896, \n",
      "Epoch: 1000, Loss: 0.07714302092790604, \n",
      "Epoch: 1500, Loss: 0.46755585074424744, \n",
      "Epoch: 2000, Loss: 0.37772035598754883, \n",
      "Epoch: 2500, Loss: 0.15895988047122955, \n",
      "Epoch: 3000, Loss: 0.3838280141353607, \n",
      "Epoch: 3500, Loss: 0.40384793281555176, \n",
      "Epoch: 4000, Loss: 0.010504873469471931, \n",
      "Epoch: 4500, Loss: 9.387588761455845e-06, \n",
      "Epoch: 5000, Loss: 5.184261908652843e-08, \n",
      "Epoch: 5500, Loss: 6.87805368215777e-12, \n",
      "Epoch: 6000, Loss: 5.684341886080802e-14, \n",
      "Epoch: 6500, Loss: 2.2737367544323206e-13, \n",
      "Epoch: 7000, Loss: 2.2737367544323206e-13, \n",
      "Epoch: 7500, Loss: 5.684341886080802e-14, \n"
     ]
    }
   ],
   "source": [
    "epochs = 8000\n",
    "for i in range(epochs):\n",
    "    data_point = np.random.randint(X.size(0))\n",
    "    x_var = Variable(X[data_point], requires_grad=False)\n",
    "    y_var = Variable(Y[data_point], requires_grad=False)\n",
    "\n",
    "    loss = brain.step(x_var, y_var)\n",
    "        \n",
    "    if i % 500 == 0:\n",
    "        print( \"Epoch: {0}, Loss: {1}, \".format(i, loss) )"
   ]
  },
  {
   "cell_type": "code",
   "execution_count": 74,
   "id": "87c25f24",
   "metadata": {},
   "outputs": [
    {
     "data": {
      "text/plain": [
       "tensor([0., 0.])"
      ]
     },
     "execution_count": 74,
     "metadata": {},
     "output_type": "execute_result"
    }
   ],
   "source": [
    "X[0]"
   ]
  },
  {
   "cell_type": "code",
   "execution_count": 7,
   "id": "cb766903",
   "metadata": {},
   "outputs": [
    {
     "data": {
      "text/plain": [
       "tensor([0.], grad_fn=<AddBackward0>)"
      ]
     },
     "execution_count": 7,
     "metadata": {},
     "output_type": "execute_result"
    }
   ],
   "source": [
    "brain(X[0])"
   ]
  },
  {
   "cell_type": "code",
   "execution_count": 8,
   "id": "94b20f21",
   "metadata": {},
   "outputs": [
    {
     "data": {
      "text/plain": [
       "tensor([1.0000], grad_fn=<AddBackward0>)"
      ]
     },
     "execution_count": 8,
     "metadata": {},
     "output_type": "execute_result"
    }
   ],
   "source": [
    "brain(X[1])"
   ]
  },
  {
   "cell_type": "code",
   "execution_count": 9,
   "id": "1860eb9c",
   "metadata": {},
   "outputs": [
    {
     "data": {
      "text/plain": [
       "tensor([1.0000], grad_fn=<AddBackward0>)"
      ]
     },
     "execution_count": 9,
     "metadata": {},
     "output_type": "execute_result"
    }
   ],
   "source": [
    "brain(X[2])"
   ]
  },
  {
   "cell_type": "code",
   "execution_count": 12,
   "id": "36d2afab",
   "metadata": {},
   "outputs": [
    {
     "data": {
      "text/plain": [
       "tensor([4.7684e-07], grad_fn=<AddBackward0>)"
      ]
     },
     "execution_count": 12,
     "metadata": {},
     "output_type": "execute_result"
    }
   ],
   "source": [
    "brain(X[3])"
   ]
  },
  {
   "cell_type": "code",
   "execution_count": 13,
   "id": "21dd767d",
   "metadata": {},
   "outputs": [],
   "source": [
    "X3 = Tensor([[0,0,0],[0,0,1], [0,1,0], [0,1,1],[1,0,0],[1,0,1], [1,1,0], [1,1,1]])\n",
    "Y3 = Tensor([0,1,1,0,1,0,0,1]).view(-1,1)"
   ]
  },
  {
   "cell_type": "code",
   "execution_count": 18,
   "id": "2ad75878",
   "metadata": {},
   "outputs": [],
   "source": [
    "brain3 = XOR_brain(0.02, nn.MSELoss(), 3, 1)\n",
    "weights_init(brain3)"
   ]
  },
  {
   "cell_type": "code",
   "execution_count": 19,
   "id": "d1b7a8df",
   "metadata": {},
   "outputs": [
    {
     "name": "stdout",
     "output_type": "stream",
     "text": [
      "Epoch: 0, Loss: 0.9962866306304932, \n",
      "Epoch: 2000, Loss: 0.3642100989818573, \n",
      "Epoch: 4000, Loss: 0.30818209052085876, \n",
      "Epoch: 6000, Loss: 0.46041634678840637, \n",
      "Epoch: 8000, Loss: 0.972288966178894, \n",
      "Epoch: 10000, Loss: 0.014242002740502357, \n",
      "Epoch: 12000, Loss: 0.008652811869978905, \n"
     ]
    }
   ],
   "source": [
    "epochs = 12001\n",
    "for i in range(epochs):\n",
    "    data_point = np.random.randint(X3.size(0))\n",
    "    x_var = Variable(X3[data_point], requires_grad=False)\n",
    "    y_var = Variable(Y3[data_point], requires_grad=False)\n",
    "\n",
    "    loss = brain3.step(x_var, y_var)\n",
    "        \n",
    "    if i % 2000 == 0:\n",
    "        print( \"Epoch: {0}, Loss: {1}, \".format(i, loss) )"
   ]
  },
  {
   "cell_type": "code",
   "execution_count": 21,
   "id": "9cb32286",
   "metadata": {},
   "outputs": [
    {
     "data": {
      "text/plain": [
       "tensor([-0.0608], grad_fn=<AddBackward0>)"
      ]
     },
     "execution_count": 21,
     "metadata": {},
     "output_type": "execute_result"
    }
   ],
   "source": [
    "brain3(X3[0])"
   ]
  },
  {
   "cell_type": "code",
   "execution_count": 31,
   "id": "837faa86",
   "metadata": {},
   "outputs": [
    {
     "name": "stdout",
     "output_type": "stream",
     "text": [
      "tensor([-0.0608], grad_fn=<AddBackward0>) tensor([0.])\n",
      "tensor([0.8134], grad_fn=<AddBackward0>) tensor([1.])\n",
      "tensor([0.7759], grad_fn=<AddBackward0>) tensor([1.])\n",
      "tensor([0.0259], grad_fn=<AddBackward0>) tensor([0.])\n",
      "tensor([0.7627], grad_fn=<AddBackward0>) tensor([1.])\n",
      "tensor([0.0258], grad_fn=<AddBackward0>) tensor([0.])\n",
      "tensor([0.0244], grad_fn=<AddBackward0>) tensor([0.])\n",
      "tensor([0.0054], grad_fn=<AddBackward0>) tensor([1.])\n"
     ]
    }
   ],
   "source": [
    "for i in range(X3.size(0)):\n",
    "    print(brain3(X3[i]), Y3[i])"
   ]
  },
  {
   "cell_type": "code",
   "execution_count": null,
   "id": "1af45304",
   "metadata": {},
   "outputs": [],
   "source": []
  }
 ],
 "metadata": {
  "kernelspec": {
   "display_name": "Python 3.9.0 64-bit",
   "language": "python",
   "name": "python3"
  },
  "language_info": {
   "codemirror_mode": {
    "name": "ipython",
    "version": 3
   },
   "file_extension": ".py",
   "mimetype": "text/x-python",
   "name": "python",
   "nbconvert_exporter": "python",
   "pygments_lexer": "ipython3",
   "version": "3.9.0"
  },
  "vscode": {
   "interpreter": {
    "hash": "c08982e64a4b459ef35a22c4920aa9cca51ee0074348257f2855fbec699e18e9"
   }
  }
 },
 "nbformat": 4,
 "nbformat_minor": 5
}
